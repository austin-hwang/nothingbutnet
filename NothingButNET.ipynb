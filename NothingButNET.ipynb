{
  "nbformat": 4,
  "nbformat_minor": 0,
  "metadata": {
    "colab": {
      "name": "NothingButNET.ipynb",
      "version": "0.3.2",
      "provenance": [],
      "collapsed_sections": [],
      "toc_visible": true,
      "include_colab_link": true
    },
    "kernelspec": {
      "name": "python3",
      "display_name": "Python 3"
    },
    "accelerator": "GPU"
  },
  "cells": [
    {
      "cell_type": "markdown",
      "metadata": {
        "id": "view-in-github",
        "colab_type": "text"
      },
      "source": [
        "<a href=\"https://colab.research.google.com/github/austin-hwang/nothingbutnet/blob/master/NothingButNET.ipynb\" target=\"_parent\"><img src=\"https://colab.research.google.com/assets/colab-badge.svg\" alt=\"Open In Colab\"/></a>"
      ]
    },
    {
      "metadata": {
        "id": "Xqw_d3If0PpP",
        "colab_type": "text"
      },
      "cell_type": "markdown",
      "source": [
        "NothingButNET - Quantifying Team Morale by Encoding Game State\n",
        "=====\n",
        "\n",
        "We are team **SPACEJAM**, and we wanted to see if we could model \"team morale\" from the wealth of data we have been given.\n",
        "\n",
        "**Team morale** is roughly the \"confidence\" and \"cleanliness of play\" of the team. One can think of it as momentum. A team with high morale makes few mistakes and glides to victory, while a team with low morale is sloppy and suffers frustrating defeat. As spectators, we can often sense these from watching the game: for example, when a player makes a stunning buzzer-beating 3-pointer at half-time to tie the game, we perceive the morale of the underdog to surge as they see a chance for victory.\n",
        "\n",
        "Since we as humans can observe and sense these changes in morale, we believe that we can train a deep neural network to capture this property of the game as some part of the \"hidden underlying state\" of the game. Since deep neural networks essentially learn to create an internal representation, or \"encoding\" of its input, we believe that we can expose this morale quantification by examining the behavior of the network in different playouts of the game.\n",
        "\n",
        "This notebook will walk through the preparation and design of the network, before examining an example. Then, we will suggest venues for future work.\n",
        "\n",
        "Slideshow link: https://docs.google.com/presentation/d/1j324HAPboJpoxIhp93ZeVZddFrDtWACOLtsnDk7Qi6M/edit?usp=sharing"
      ]
    },
    {
      "metadata": {
        "id": "e7VoQFjD0bq7",
        "colab_type": "text"
      },
      "cell_type": "markdown",
      "source": [
        "Preparation\n",
        "-----\n",
        "\n",
        "We authenticate with Google services and setup our imports."
      ]
    },
    {
      "metadata": {
        "id": "Hu7512jbz5DA",
        "colab_type": "code",
        "outputId": "ec21f0bb-c0da-4f86-a9bb-c67f14b61a9d",
        "colab": {
          "base_uri": "https://localhost:8080/",
          "height": 35
        }
      },
      "cell_type": "code",
      "source": [
        "from google.colab import auth\n",
        "auth.authenticate_user()\n",
        "print('Authenticated')"
      ],
      "execution_count": 0,
      "outputs": [
        {
          "output_type": "stream",
          "text": [
            "Authenticated\n"
          ],
          "name": "stdout"
        }
      ]
    },
    {
      "metadata": {
        "id": "Xkncz2gy0Mo6",
        "colab_type": "code",
        "colab": {}
      },
      "cell_type": "code",
      "source": [
        "from google.cloud import bigquery\n",
        "\n",
        "client = bigquery.Client(project='stardust-hackathon')"
      ],
      "execution_count": 0,
      "outputs": []
    },
    {
      "metadata": {
        "id": "825yEQSu1TLQ",
        "colab_type": "code",
        "colab": {}
      },
      "cell_type": "code",
      "source": [
        "# BigQuery DB prefix\n",
        "bqdb = \"stardust-hackathon.ncaa_mbb\""
      ],
      "execution_count": 0,
      "outputs": []
    },
    {
      "metadata": {
        "id": "xBx4TH0T8GbJ",
        "colab_type": "text"
      },
      "cell_type": "markdown",
      "source": [
        "We use Keras to implement our model."
      ]
    },
    {
      "metadata": {
        "id": "Jdft0EbA0Oi4",
        "colab_type": "code",
        "colab": {}
      },
      "cell_type": "code",
      "source": [
        "import keras\n",
        "from keras import backend as K\n",
        "from keras.models import Model\n",
        "from keras.layers import Input, Dense, LSTM"
      ],
      "execution_count": 0,
      "outputs": []
    },
    {
      "metadata": {
        "id": "JTbzeq472zt4",
        "colab_type": "code",
        "colab": {}
      },
      "cell_type": "code",
      "source": [
        "import numpy as np\n",
        "import random"
      ],
      "execution_count": 0,
      "outputs": []
    },
    {
      "metadata": {
        "id": "Fj-5lBFl0fcl",
        "colab_type": "text"
      },
      "cell_type": "markdown",
      "source": [
        "Data Acqisition\n",
        "-----\n",
        "We retreive a list of valid game IDs, which will help us find training examples:"
      ]
    },
    {
      "metadata": {
        "id": "9gmpwogx0vVJ",
        "colab_type": "code",
        "colab": {}
      },
      "cell_type": "code",
      "source": [
        "games = client.query(f\"SELECT DISTINCT game_id from `{bqdb}.d1_tm_game_stats` AS t\").to_dataframe()['game_id'].tolist()"
      ],
      "execution_count": 0,
      "outputs": []
    },
    {
      "metadata": {
        "id": "vyM10cSN1-2u",
        "colab_type": "code",
        "outputId": "3c26251e-ee7d-41c3-a6f7-592c41390726",
        "colab": {
          "base_uri": "https://localhost:8080/",
          "height": 35
        }
      },
      "cell_type": "code",
      "source": [
        "len(games)"
      ],
      "execution_count": 0,
      "outputs": [
        {
          "output_type": "execute_result",
          "data": {
            "text/plain": [
              "27378"
            ]
          },
          "metadata": {
            "tags": []
          },
          "execution_count": 12
        }
      ]
    },
    {
      "metadata": {
        "id": "o6aTSh9P-wRZ",
        "colab_type": "text"
      },
      "cell_type": "markdown",
      "source": [
        " We then set up a helper function to process the play-by-play for a given game into a quantified vector which can be fed into our model.\n",
        " \n",
        " Note the fields we use: We use the elapsed time, the current point state, along with the event type and its metadata."
      ]
    },
    {
      "metadata": {
        "id": "YqsuM9c42wUd",
        "colab_type": "code",
        "colab": {}
      },
      "cell_type": "code",
      "source": [
        "# Given a BigQuery `client` and a `game_id` string,\n",
        "# Return a ordered timeseries of event vectors for that game\n",
        "# Vector format: [elapsed_time_sec, home_pts, away_pts] + event type one-hot vector (like [is_3PTR, is_FOUL, is_PASS ...])\n",
        "def get_game_timeseries(client, game_id):\n",
        "  df = client.query(f\"SELECT elapsed_time_sec, home_pts, away_pts, event_type, shot_made, shot_type, rebound_type, foul_type FROM `stardust-hackathon.ncaa_mbb.pbp` WHERE game_id = '{game_id}' ORDER BY elapsed_time_sec ASC\").to_dataframe()\n",
        "  #print(df)\n",
        "  event_type = {'miss': 0,'steal': 1,'assist': 2,'rebound': 3,'block': 4,'turnover': 5,'sub': 6,'foul': 7,'good': 8,'timeout': 9, 'tv_timeout': 10, 'deadball': 11, 'for': 12, 'def pts': 13}\n",
        "  shot_type = {'3ptr': 0, 'ft': 1, 'layup': 2, 'dunk': 3, 'jumper': 4, 'tipin': 5}\n",
        "  rebound_type = {'def': 0, 'off': 1, 'deadb': 2}\n",
        "  all_vectors = []\n",
        "\n",
        "  df.fillna(0)\n",
        "\n",
        "  df['home_pts'] = df['home_pts'].replace(0, method='ffill')\n",
        "  df['away_pts'] = df['away_pts'].replace(0, method='ffill')\n",
        " \n",
        "  \n",
        "  for i in range(len(df['elapsed_time_sec'])):\n",
        "    vector = []\n",
        "    for row in df:\n",
        "      val = df[f'{row}'][i]\n",
        "      if row == 'shot_made':\n",
        "        if val:\n",
        "          vector.append(1)\n",
        "        else:\n",
        "          vector.append(0)\n",
        "      elif row == 'event_type':\n",
        "          temp = [0 for _ in range(14)]\n",
        "          if val:\n",
        "            temp[event_type[val.lower()]] = 1\n",
        "          vector.extend(temp)\n",
        "      elif row == 'shot_type':\n",
        "          temp = [0 for _ in range(6)]\n",
        "          if val:\n",
        "            temp[shot_type[val.lower()]] = 1\n",
        "          vector.extend(temp)\n",
        "      elif row == 'rebound_type':\n",
        "          temp = [0 for _ in range(3)]\n",
        "          if val:\n",
        "            temp[rebound_type[val.lower()]] = 1\n",
        "          vector.extend(temp)\n",
        "      elif row == 'foul_type':\n",
        "          if val:\n",
        "            if val.lower() == 'tech':\n",
        "              vector.append(1)\n",
        "            else:\n",
        "              vector.append(0)\n",
        "          else:\n",
        "              vector.append(0)\n",
        "      else:\n",
        "        vector.append(float(val))\n",
        "        \n",
        "#     print(vector)\n",
        "    all_vectors.append(vector)\n",
        "  return all_vectors\n"
      ],
      "execution_count": 0,
      "outputs": []
    },
    {
      "metadata": {
        "id": "5CB0vOKbOxhX",
        "colab_type": "code",
        "outputId": "4e009236-fcd5-45c5-b06f-fed67e1ca676",
        "colab": {
          "base_uri": "https://localhost:8080/",
          "height": 35
        }
      },
      "cell_type": "code",
      "source": [
        "# Example output\n",
        "print(get_game_timeseries(client, \"2743-655-2018-02-07\")[-1])"
      ],
      "execution_count": 0,
      "outputs": [
        {
          "output_type": "stream",
          "text": [
            "[2389.0, 68.0, 86.0, 0, 0, 0, 0, 0, 0, 0, 0, 1, 0, 0, 0, 0, 0, 1, 0, 0, 0, 0, 1, 0, 0, 0, 0, 0]\n"
          ],
          "name": "stdout"
        }
      ]
    },
    {
      "metadata": {
        "id": "G6cqXY_q8J6T",
        "colab_type": "text"
      },
      "cell_type": "markdown",
      "source": [
        "Model\n",
        "-----\n",
        "\n",
        "We design an LSTM model which will learn the underlying game state in its encoding layer.\n",
        "\n",
        "The architecture is as follows:\n",
        "\n",
        "```\n",
        "input -> [LSTM] -> (here is the encoding) -> [Fully-Connected Layers] -> Score Ratio after 1 min\n",
        "                                                 -> [Fully-Connected Layers] -> Score Ratio after 5 min\n",
        "                                                 -> [Fully-Connected Layers] -> Score Ratio after 10 min\n",
        "```"
      ]
    },
    {
      "metadata": {
        "id": "UXCFjIjp8NOL",
        "colab_type": "code",
        "colab": {}
      },
      "cell_type": "code",
      "source": [
        "def DenseStack(x, output_size, name, sizes=[]):\n",
        "  for size in sizes:\n",
        "    x = Dense(size, activation='relu')(x)\n",
        "  return Dense(output_size, activation='softmax', name=name)(x)\n",
        "  \n",
        "\n",
        "def DeepPredictor(input_shape, encoding_size):\n",
        "  \n",
        "  the_input = Input(input_shape)  \n",
        "  encoding = LSTM(units=encoding_size)(the_input)\n",
        "  \n",
        "  after_one = DenseStack(encoding, 2, sizes=[64, 128, 64, 32], name='after_one')\n",
        "  after_five = DenseStack(encoding, 2, sizes=[64, 128, 64, 32], name='after_five')\n",
        "  after_ten = DenseStack(encoding, 2, sizes=[64, 128, 64, 32], name='after_ten')\n",
        "  \n",
        "  model = Model(inputs=the_input, outputs=[after_one, after_five, after_ten])\n",
        "  model.compile(loss='mean_squared_error', optimizer=keras.optimizers.Adam(lr=0.00001), metrics=['accuracy'])\n",
        "  \n",
        "  return model"
      ],
      "execution_count": 0,
      "outputs": []
    },
    {
      "metadata": {
        "id": "ouYoK2bD9ZS4",
        "colab_type": "text"
      },
      "cell_type": "markdown",
      "source": [
        "We build the model:"
      ]
    },
    {
      "metadata": {
        "id": "rOu3IvllAEIF",
        "colab_type": "code",
        "colab": {}
      },
      "cell_type": "code",
      "source": [
        "model = DeepPredictor(input_shape=(None,28), encoding_size=64)"
      ],
      "execution_count": 0,
      "outputs": []
    },
    {
      "metadata": {
        "id": "1iORK5cF9786",
        "colab_type": "text"
      },
      "cell_type": "markdown",
      "source": [
        "Create a training appliance:"
      ]
    },
    {
      "metadata": {
        "id": "WCXVe-9BS4rY",
        "colab_type": "code",
        "colab": {}
      },
      "cell_type": "code",
      "source": [
        "def batch_generator():\n",
        "  while True:\n",
        "    game_id = random.choice(games)\n",
        "    \n",
        "    timeseries = np.array(get_game_timeseries(client, game_id))\n",
        "    \n",
        "    if len(timeseries) == 0:\n",
        "      continue\n",
        "    \n",
        "    stop_slice = random.randint(0, len(timeseries)-1)\n",
        "    stop_time = timeseries[stop_slice][0]\n",
        "    \n",
        "    for i in range(3):\n",
        "    \n",
        "      train_in = np.expand_dims(np.array(timeseries[:stop_slice]), axis=0)\n",
        "\n",
        "      if np.isnan(train_in).any():\n",
        "        print(\"BAD NAN\")\n",
        "        break\n",
        "\n",
        "      final = (timeseries[-1][1], timeseries[-1][2])\n",
        "      after_one = final\n",
        "      after_five = final\n",
        "      after_ten = final\n",
        "\n",
        "      for s in timeseries[stop_slice:]:\n",
        "        if s[0] - stop_time > 60:\n",
        "          after_one = (s[1], s[2])\n",
        "        if s[0] - stop_time > 300:\n",
        "          after_five = (s[1], s[2])\n",
        "        if s[0] - stop_time > 600:\n",
        "          after_ten = (s[1], s[2])\n",
        "          break\n",
        "\n",
        "      total_points = final[0] + final[1] + 1\n",
        "      after_one = (after_one[0]/total_points, after_one[1]/total_points)\n",
        "      after_five = (after_five[0]/total_points, after_five[1]/total_points)\n",
        "      after_ten = (after_ten[0]/total_points, after_ten[1]/total_points)\n",
        "\n",
        "\n",
        "      label = {\n",
        "          'after_one': np.array([after_one]),\n",
        "          'after_five': np.array([after_five]),\n",
        "          'after_ten': np.array([after_ten]),\n",
        "      }\n",
        "\n",
        "      import pandas\n",
        "\n",
        "      yield train_in, label"
      ],
      "execution_count": 0,
      "outputs": []
    },
    {
      "metadata": {
        "id": "4FY9XkDc-BFH",
        "colab_type": "text"
      },
      "cell_type": "markdown",
      "source": [
        "Note our use of of score ratio: this ratio is directional, and quantifies the degree and direction of score differential in a normalized way.\n",
        "\n",
        "Now we train"
      ]
    },
    {
      "metadata": {
        "id": "031jnRq4IWWC",
        "colab_type": "code",
        "outputId": "7eb8d18d-9540-4990-e0ee-4ae183f62c96",
        "colab": {
          "base_uri": "https://localhost:8080/",
          "height": 2694
        }
      },
      "cell_type": "code",
      "source": [
        "model.fit_generator(batch_generator(), steps_per_epoch=3, epochs=1000)"
      ],
      "execution_count": 0,
      "outputs": [
        {
          "output_type": "stream",
          "text": [
            "Epoch 1/1000\n",
            "3/3 [==============================] - 6s 2s/step - loss: 0.3854 - after_one_loss: 0.1501 - after_five_loss: 0.1176 - after_ten_loss: 0.1177 - after_one_acc: 0.0000e+00 - after_five_acc: 1.0000 - after_ten_acc: 1.0000\n",
            "Epoch 2/1000\n",
            "3/3 [==============================] - 5s 2s/step - loss: 0.0266 - after_one_loss: 0.0228 - after_five_loss: 0.0026 - after_ten_loss: 0.0012 - after_one_acc: 0.0000e+00 - after_five_acc: 0.0000e+00 - after_ten_acc: 0.0000e+00\n",
            "Epoch 3/1000\n",
            "3/3 [==============================] - 2s 632ms/step - loss: 0.1034 - after_one_loss: 0.0383 - after_five_loss: 0.0324 - after_ten_loss: 0.0326 - after_one_acc: 1.0000 - after_five_acc: 1.0000 - after_ten_acc: 1.0000\n",
            "Epoch 4/1000\n",
            "3/3 [==============================] - 1s 279ms/step - loss: 0.2801 - after_one_loss: 0.1039 - after_five_loss: 0.0884 - after_ten_loss: 0.0879 - after_one_acc: 0.0000e+00 - after_five_acc: 0.0000e+00 - after_ten_acc: 0.0000e+00\n",
            "Epoch 5/1000\n",
            "3/3 [==============================] - 4s 1s/step - loss: 0.0193 - after_one_loss: 0.0156 - after_five_loss: 0.0026 - after_ten_loss: 0.0011 - after_one_acc: 0.0000e+00 - after_five_acc: 0.0000e+00 - after_ten_acc: 0.0000e+00\n",
            "Epoch 6/1000\n",
            "3/3 [==============================] - 2s 657ms/step - loss: 0.1451 - after_one_loss: 0.0526 - after_five_loss: 0.0463 - after_ten_loss: 0.0462 - after_one_acc: 1.0000 - after_five_acc: 1.0000 - after_ten_acc: 1.0000\n",
            "Epoch 7/1000\n",
            "3/3 [==============================] - 4s 1s/step - loss: 0.0076 - after_one_loss: 0.0062 - after_five_loss: 1.9572e-04 - after_ten_loss: 0.0013 - after_one_acc: 1.0000 - after_five_acc: 1.0000 - after_ten_acc: 1.0000\n",
            "Epoch 8/1000\n",
            "3/3 [==============================] - 1s 482ms/step - loss: 0.1749 - after_one_loss: 0.0601 - after_five_loss: 0.0568 - after_ten_loss: 0.0580 - after_one_acc: 1.0000 - after_five_acc: 1.0000 - after_ten_acc: 1.0000\n",
            "Epoch 9/1000\n",
            "3/3 [==============================] - 5s 2s/step - loss: 0.0154 - after_one_loss: 0.0118 - after_five_loss: 0.0024 - after_ten_loss: 0.0013 - after_one_acc: 0.0000e+00 - after_five_acc: 0.0000e+00 - after_ten_acc: 0.0000e+00\n",
            "Epoch 10/1000\n",
            "3/3 [==============================] - 1s 428ms/step - loss: 0.2646 - after_one_loss: 0.0974 - after_five_loss: 0.0840 - after_ten_loss: 0.0833 - after_one_acc: 0.0000e+00 - after_five_acc: 0.0000e+00 - after_ten_acc: 0.0000e+00\n",
            "Epoch 11/1000\n",
            "3/3 [==============================] - 2s 714ms/step - loss: 0.1676 - after_one_loss: 0.0763 - after_five_loss: 0.0476 - after_ten_loss: 0.0437 - after_one_acc: 0.0000e+00 - after_five_acc: 0.0000e+00 - after_ten_acc: 1.0000\n",
            "Epoch 12/1000\n",
            "3/3 [==============================] - 0s 122ms/step - loss: 0.3999 - after_one_loss: 0.1421 - after_five_loss: 0.1290 - after_ten_loss: 0.1288 - after_one_acc: 0.0000e+00 - after_five_acc: 0.0000e+00 - after_ten_acc: 0.0000e+00\n",
            "Epoch 13/1000\n",
            "3/3 [==============================] - 1s 374ms/step - loss: 0.2534 - after_one_loss: 0.0910 - after_five_loss: 0.0816 - after_ten_loss: 0.0808 - after_one_acc: 0.0000e+00 - after_five_acc: 0.0000e+00 - after_ten_acc: 0.0000e+00\n",
            "Epoch 14/1000\n",
            "3/3 [==============================] - 4s 1s/step - loss: 0.0211 - after_one_loss: 0.0169 - after_five_loss: 0.0028 - after_ten_loss: 0.0014 - after_one_acc: 0.0000e+00 - after_five_acc: 0.0000e+00 - after_ten_acc: 1.0000\n",
            "Epoch 15/1000\n",
            "3/3 [==============================] - 4s 1s/step - loss: 0.0153 - after_one_loss: 0.0110 - after_five_loss: 0.0028 - after_ten_loss: 0.0015 - after_one_acc: 0.0000e+00 - after_five_acc: 0.0000e+00 - after_ten_acc: 0.0000e+00\n",
            "Epoch 16/1000\n",
            "3/3 [==============================] - 2s 818ms/step - loss: 0.1377 - after_one_loss: 0.0496 - after_five_loss: 0.0440 - after_ten_loss: 0.0441 - after_one_acc: 1.0000 - after_five_acc: 1.0000 - after_ten_acc: 1.0000\n",
            "Epoch 17/1000\n",
            "3/3 [==============================] - 2s 683ms/step - loss: 0.0975 - after_one_loss: 0.0383 - after_five_loss: 0.0301 - after_ten_loss: 0.0291 - after_one_acc: 0.0000e+00 - after_five_acc: 0.0000e+00 - after_ten_acc: 0.0000e+00\n",
            "Epoch 18/1000\n",
            "3/3 [==============================] - 2s 597ms/step - loss: 0.1801 - after_one_loss: 0.0707 - after_five_loss: 0.0557 - after_ten_loss: 0.0537 - after_one_acc: 0.0000e+00 - after_five_acc: 0.0000e+00 - after_ten_acc: 0.6667\n",
            "Epoch 19/1000\n",
            "3/3 [==============================] - 5s 2s/step - loss: 0.0031 - after_one_loss: 0.0023 - after_five_loss: 1.0436e-04 - after_ten_loss: 7.0065e-04 - after_one_acc: 1.0000 - after_five_acc: 1.0000 - after_ten_acc: 0.0000e+00\n",
            "Epoch 20/1000\n",
            "3/3 [==============================] - 1s 230ms/step - loss: 0.3476 - after_one_loss: 0.1235 - after_five_loss: 0.1122 - after_ten_loss: 0.1119 - after_one_acc: 0.0000e+00 - after_five_acc: 1.0000 - after_ten_acc: 1.0000\n",
            "Epoch 21/1000\n",
            "3/3 [==============================] - 2s 797ms/step - loss: 0.0910 - after_one_loss: 0.0351 - after_five_loss: 0.0284 - after_ten_loss: 0.0276 - after_one_acc: 0.0000e+00 - after_five_acc: 0.0000e+00 - after_ten_acc: 1.0000\n",
            "Epoch 22/1000\n",
            "3/3 [==============================] - 2s 679ms/step - loss: 0.0673 - after_one_loss: 0.0281 - after_five_loss: 0.0200 - after_ten_loss: 0.0192 - after_one_acc: 0.0000e+00 - after_five_acc: 0.0000e+00 - after_ten_acc: 1.0000\n",
            "Epoch 23/1000\n",
            "3/3 [==============================] - 4s 1s/step - loss: 0.0139 - after_one_loss: 0.0103 - after_five_loss: 0.0023 - after_ten_loss: 0.0013 - after_one_acc: 0.0000e+00 - after_five_acc: 0.0000e+00 - after_ten_acc: 1.0000\n",
            "Epoch 24/1000\n",
            "3/3 [==============================] - 3s 915ms/step - loss: 0.0437 - after_one_loss: 0.0206 - after_five_loss: 0.0123 - after_ten_loss: 0.0108 - after_one_acc: 0.0000e+00 - after_five_acc: 0.0000e+00 - after_ten_acc: 1.0000\n",
            "Epoch 25/1000\n",
            "3/3 [==============================] - 2s 757ms/step - loss: 0.0124 - after_one_loss: 0.0056 - after_five_loss: 0.0033 - after_ten_loss: 0.0035 - after_one_acc: 1.0000 - after_five_acc: 1.0000 - after_ten_acc: 0.0000e+00\n",
            "Epoch 26/1000\n",
            "3/3 [==============================] - 2s 721ms/step - loss: 0.0047 - after_one_loss: 0.0012 - after_five_loss: 8.9286e-04 - after_ten_loss: 0.0026 - after_one_acc: 1.0000 - after_five_acc: 1.0000 - after_ten_acc: 0.0000e+00\n",
            "Epoch 27/1000\n",
            "3/3 [==============================] - 1s 312ms/step - loss: 0.1830 - after_one_loss: 0.0655 - after_five_loss: 0.0591 - after_ten_loss: 0.0584 - after_one_acc: 0.0000e+00 - after_five_acc: 1.0000 - after_ten_acc: 1.0000\n",
            "Epoch 28/1000\n",
            "3/3 [==============================] - 1s 387ms/step - loss: 0.1534 - after_one_loss: 0.0590 - after_five_loss: 0.0481 - after_ten_loss: 0.0463 - after_one_acc: 0.0000e+00 - after_five_acc: 0.0000e+00 - after_ten_acc: 1.0000\n",
            "Epoch 29/1000\n",
            "3/3 [==============================] - 0s 134ms/step - loss: 0.2724 - after_one_loss: 0.0943 - after_five_loss: 0.0891 - after_ten_loss: 0.0889 - after_one_acc: 0.0000e+00 - after_five_acc: 1.0000 - after_ten_acc: 1.0000\n",
            "Epoch 30/1000\n",
            "3/3 [==============================] - 0s 154ms/step - loss: 0.2567 - after_one_loss: 0.0856 - after_five_loss: 0.0851 - after_ten_loss: 0.0859 - after_one_acc: 1.0000 - after_five_acc: 1.0000 - after_ten_acc: 0.0000e+00\n",
            "Epoch 31/1000\n",
            "3/3 [==============================] - 0s 32ms/step - loss: 0.3133 - after_one_loss: 0.1065 - after_five_loss: 0.1031 - after_ten_loss: 0.1037 - after_one_acc: 1.0000 - after_five_acc: 0.0000e+00 - after_ten_acc: 0.0000e+00\n",
            "Epoch 32/1000\n",
            "3/3 [==============================] - 2s 556ms/step - loss: 0.0926 - after_one_loss: 0.0291 - after_five_loss: 0.0309 - after_ten_loss: 0.0326 - after_one_acc: 1.0000 - after_five_acc: 1.0000 - after_ten_acc: 0.0000e+00\n",
            "Epoch 33/1000\n",
            "3/3 [==============================] - 2s 772ms/step - loss: 0.1321 - after_one_loss: 0.0479 - after_five_loss: 0.0427 - after_ten_loss: 0.0415 - after_one_acc: 0.0000e+00 - after_five_acc: 0.0000e+00 - after_ten_acc: 1.0000\n",
            "Epoch 34/1000\n",
            "3/3 [==============================] - 1s 237ms/step - loss: 0.3544 - after_one_loss: 0.1239 - after_five_loss: 0.1165 - after_ten_loss: 0.1140 - after_one_acc: 0.0000e+00 - after_five_acc: 0.0000e+00 - after_ten_acc: 1.0000\n",
            "Epoch 35/1000\n",
            "3/3 [==============================] - 3s 1s/step - loss: 0.0121 - after_one_loss: 0.0076 - after_five_loss: 0.0029 - after_ten_loss: 0.0015 - after_one_acc: 0.0000e+00 - after_five_acc: 1.0000 - after_ten_acc: 1.0000\n",
            "Epoch 36/1000\n",
            "3/3 [==============================] - 1s 325ms/step - loss: 0.1442 - after_one_loss: 0.0520 - after_five_loss: 0.0467 - after_ten_loss: 0.0456 - after_one_acc: 0.0000e+00 - after_five_acc: 0.0000e+00 - after_ten_acc: 1.0000\n",
            "Epoch 37/1000\n",
            "3/3 [==============================] - 2s 770ms/step - loss: 0.0085 - after_one_loss: 0.0063 - after_five_loss: 0.0016 - after_ten_loss: 5.4026e-04 - after_one_acc: 0.0000e+00 - after_five_acc: 0.0000e+00 - after_ten_acc: 1.0000\n",
            "Epoch 38/1000\n",
            "3/3 [==============================] - 1s 345ms/step - loss: 0.0635 - after_one_loss: 0.0200 - after_five_loss: 0.0212 - after_ten_loss: 0.0223 - after_one_acc: 1.0000 - after_five_acc: 1.0000 - after_ten_acc: 0.0000e+00\n",
            "Epoch 39/1000\n",
            "3/3 [==============================] - 4s 1s/step - loss: 0.0043 - after_one_loss: 0.0015 - after_five_loss: 6.4384e-04 - after_ten_loss: 0.0022 - after_one_acc: 1.0000 - after_five_acc: 1.0000 - after_ten_acc: 0.0000e+00\n",
            "Epoch 40/1000\n",
            "3/3 [==============================] - 2s 692ms/step - loss: 0.0317 - after_one_loss: 0.0111 - after_five_loss: 0.0101 - after_ten_loss: 0.0105 - after_one_acc: 1.0000 - after_five_acc: 0.0000e+00 - after_ten_acc: 0.0000e+00\n",
            "Epoch 41/1000\n",
            "3/3 [==============================] - 5s 2s/step - loss: 0.0018 - after_one_loss: 4.6452e-04 - after_five_loss: 2.8193e-04 - after_ten_loss: 0.0010 - after_one_acc: 1.0000 - after_five_acc: 1.0000 - after_ten_acc: 0.0000e+00\n",
            "Epoch 42/1000\n",
            "3/3 [==============================] - 1s 371ms/step - loss: 0.2169 - after_one_loss: 0.0751 - after_five_loss: 0.0715 - after_ten_loss: 0.0703 - after_one_acc: 0.0000e+00 - after_five_acc: 1.0000 - after_ten_acc: 1.0000\n",
            "Epoch 43/1000\n",
            "3/3 [==============================] - 3s 851ms/step - loss: 0.0011 - after_one_loss: 3.4702e-04 - after_five_loss: 2.7434e-04 - after_ten_loss: 4.9760e-04 - after_one_acc: 1.0000 - after_five_acc: 0.0000e+00 - after_ten_acc: 0.0000e+00\n",
            "Epoch 44/1000\n",
            "3/3 [==============================] - 1s 310ms/step - loss: 0.1227 - after_one_loss: 0.0447 - after_five_loss: 0.0399 - after_ten_loss: 0.0381 - after_one_acc: 0.0000e+00 - after_five_acc: 1.0000 - after_ten_acc: 1.0000\n",
            "Epoch 45/1000\n",
            "1/3 [=========>....................] - ETA: 1s - loss: 0.0452 - after_one_loss: 0.0168 - after_five_loss: 0.0144 - after_ten_loss: 0.0139 - after_one_acc: 0.0000e+00 - after_five_acc: 0.0000e+00 - after_ten_acc: 1.0000"
          ],
          "name": "stdout"
        },
        {
          "output_type": "error",
          "ename": "KeyboardInterrupt",
          "evalue": "ignored",
          "traceback": [
            "\u001b[0;31m---------------------------------------------------------------------------\u001b[0m",
            "\u001b[0;31mKeyboardInterrupt\u001b[0m                         Traceback (most recent call last)",
            "\u001b[0;32m<ipython-input-163-5d6c40050287>\u001b[0m in \u001b[0;36m<module>\u001b[0;34m()\u001b[0m\n\u001b[0;32m----> 1\u001b[0;31m \u001b[0mmodel\u001b[0m\u001b[0;34m.\u001b[0m\u001b[0mfit_generator\u001b[0m\u001b[0;34m(\u001b[0m\u001b[0mbatch_generator\u001b[0m\u001b[0;34m(\u001b[0m\u001b[0;34m)\u001b[0m\u001b[0;34m,\u001b[0m \u001b[0msteps_per_epoch\u001b[0m\u001b[0;34m=\u001b[0m\u001b[0;36m3\u001b[0m\u001b[0;34m,\u001b[0m \u001b[0mepochs\u001b[0m\u001b[0;34m=\u001b[0m\u001b[0;36m1000\u001b[0m\u001b[0;34m)\u001b[0m\u001b[0;34m\u001b[0m\u001b[0;34m\u001b[0m\u001b[0m\n\u001b[0m",
            "\u001b[0;32m/usr/local/lib/python3.6/dist-packages/keras/legacy/interfaces.py\u001b[0m in \u001b[0;36mwrapper\u001b[0;34m(*args, **kwargs)\u001b[0m\n\u001b[1;32m     89\u001b[0m                 warnings.warn('Update your `' + object_name + '` call to the ' +\n\u001b[1;32m     90\u001b[0m                               'Keras 2 API: ' + signature, stacklevel=2)\n\u001b[0;32m---> 91\u001b[0;31m             \u001b[0;32mreturn\u001b[0m \u001b[0mfunc\u001b[0m\u001b[0;34m(\u001b[0m\u001b[0;34m*\u001b[0m\u001b[0margs\u001b[0m\u001b[0;34m,\u001b[0m \u001b[0;34m**\u001b[0m\u001b[0mkwargs\u001b[0m\u001b[0;34m)\u001b[0m\u001b[0;34m\u001b[0m\u001b[0;34m\u001b[0m\u001b[0m\n\u001b[0m\u001b[1;32m     92\u001b[0m         \u001b[0mwrapper\u001b[0m\u001b[0;34m.\u001b[0m\u001b[0m_original_function\u001b[0m \u001b[0;34m=\u001b[0m \u001b[0mfunc\u001b[0m\u001b[0;34m\u001b[0m\u001b[0;34m\u001b[0m\u001b[0m\n\u001b[1;32m     93\u001b[0m         \u001b[0;32mreturn\u001b[0m \u001b[0mwrapper\u001b[0m\u001b[0;34m\u001b[0m\u001b[0;34m\u001b[0m\u001b[0m\n",
            "\u001b[0;32m/usr/local/lib/python3.6/dist-packages/keras/engine/training.py\u001b[0m in \u001b[0;36mfit_generator\u001b[0;34m(self, generator, steps_per_epoch, epochs, verbose, callbacks, validation_data, validation_steps, class_weight, max_queue_size, workers, use_multiprocessing, shuffle, initial_epoch)\u001b[0m\n\u001b[1;32m   1416\u001b[0m             \u001b[0muse_multiprocessing\u001b[0m\u001b[0;34m=\u001b[0m\u001b[0muse_multiprocessing\u001b[0m\u001b[0;34m,\u001b[0m\u001b[0;34m\u001b[0m\u001b[0;34m\u001b[0m\u001b[0m\n\u001b[1;32m   1417\u001b[0m             \u001b[0mshuffle\u001b[0m\u001b[0;34m=\u001b[0m\u001b[0mshuffle\u001b[0m\u001b[0;34m,\u001b[0m\u001b[0;34m\u001b[0m\u001b[0;34m\u001b[0m\u001b[0m\n\u001b[0;32m-> 1418\u001b[0;31m             initial_epoch=initial_epoch)\n\u001b[0m\u001b[1;32m   1419\u001b[0m \u001b[0;34m\u001b[0m\u001b[0m\n\u001b[1;32m   1420\u001b[0m     \u001b[0;34m@\u001b[0m\u001b[0minterfaces\u001b[0m\u001b[0;34m.\u001b[0m\u001b[0mlegacy_generator_methods_support\u001b[0m\u001b[0;34m\u001b[0m\u001b[0;34m\u001b[0m\u001b[0m\n",
            "\u001b[0;32m/usr/local/lib/python3.6/dist-packages/keras/engine/training_generator.py\u001b[0m in \u001b[0;36mfit_generator\u001b[0;34m(model, generator, steps_per_epoch, epochs, verbose, callbacks, validation_data, validation_steps, class_weight, max_queue_size, workers, use_multiprocessing, shuffle, initial_epoch)\u001b[0m\n\u001b[1;32m    215\u001b[0m                 outs = model.train_on_batch(x, y,\n\u001b[1;32m    216\u001b[0m                                             \u001b[0msample_weight\u001b[0m\u001b[0;34m=\u001b[0m\u001b[0msample_weight\u001b[0m\u001b[0;34m,\u001b[0m\u001b[0;34m\u001b[0m\u001b[0;34m\u001b[0m\u001b[0m\n\u001b[0;32m--> 217\u001b[0;31m                                             class_weight=class_weight)\n\u001b[0m\u001b[1;32m    218\u001b[0m \u001b[0;34m\u001b[0m\u001b[0m\n\u001b[1;32m    219\u001b[0m                 \u001b[0mouts\u001b[0m \u001b[0;34m=\u001b[0m \u001b[0mto_list\u001b[0m\u001b[0;34m(\u001b[0m\u001b[0mouts\u001b[0m\u001b[0;34m)\u001b[0m\u001b[0;34m\u001b[0m\u001b[0;34m\u001b[0m\u001b[0m\n",
            "\u001b[0;32m/usr/local/lib/python3.6/dist-packages/keras/engine/training.py\u001b[0m in \u001b[0;36mtrain_on_batch\u001b[0;34m(self, x, y, sample_weight, class_weight)\u001b[0m\n\u001b[1;32m   1215\u001b[0m             \u001b[0mins\u001b[0m \u001b[0;34m=\u001b[0m \u001b[0mx\u001b[0m \u001b[0;34m+\u001b[0m \u001b[0my\u001b[0m \u001b[0;34m+\u001b[0m \u001b[0msample_weights\u001b[0m\u001b[0;34m\u001b[0m\u001b[0;34m\u001b[0m\u001b[0m\n\u001b[1;32m   1216\u001b[0m         \u001b[0mself\u001b[0m\u001b[0;34m.\u001b[0m\u001b[0m_make_train_function\u001b[0m\u001b[0;34m(\u001b[0m\u001b[0;34m)\u001b[0m\u001b[0;34m\u001b[0m\u001b[0;34m\u001b[0m\u001b[0m\n\u001b[0;32m-> 1217\u001b[0;31m         \u001b[0moutputs\u001b[0m \u001b[0;34m=\u001b[0m \u001b[0mself\u001b[0m\u001b[0;34m.\u001b[0m\u001b[0mtrain_function\u001b[0m\u001b[0;34m(\u001b[0m\u001b[0mins\u001b[0m\u001b[0;34m)\u001b[0m\u001b[0;34m\u001b[0m\u001b[0;34m\u001b[0m\u001b[0m\n\u001b[0m\u001b[1;32m   1218\u001b[0m         \u001b[0;32mreturn\u001b[0m \u001b[0munpack_singleton\u001b[0m\u001b[0;34m(\u001b[0m\u001b[0moutputs\u001b[0m\u001b[0;34m)\u001b[0m\u001b[0;34m\u001b[0m\u001b[0;34m\u001b[0m\u001b[0m\n\u001b[1;32m   1219\u001b[0m \u001b[0;34m\u001b[0m\u001b[0m\n",
            "\u001b[0;32m/usr/local/lib/python3.6/dist-packages/keras/backend/tensorflow_backend.py\u001b[0m in \u001b[0;36m__call__\u001b[0;34m(self, inputs)\u001b[0m\n\u001b[1;32m   2713\u001b[0m                 \u001b[0;32mreturn\u001b[0m \u001b[0mself\u001b[0m\u001b[0;34m.\u001b[0m\u001b[0m_legacy_call\u001b[0m\u001b[0;34m(\u001b[0m\u001b[0minputs\u001b[0m\u001b[0;34m)\u001b[0m\u001b[0;34m\u001b[0m\u001b[0;34m\u001b[0m\u001b[0m\n\u001b[1;32m   2714\u001b[0m \u001b[0;34m\u001b[0m\u001b[0m\n\u001b[0;32m-> 2715\u001b[0;31m             \u001b[0;32mreturn\u001b[0m \u001b[0mself\u001b[0m\u001b[0;34m.\u001b[0m\u001b[0m_call\u001b[0m\u001b[0;34m(\u001b[0m\u001b[0minputs\u001b[0m\u001b[0;34m)\u001b[0m\u001b[0;34m\u001b[0m\u001b[0;34m\u001b[0m\u001b[0m\n\u001b[0m\u001b[1;32m   2716\u001b[0m         \u001b[0;32melse\u001b[0m\u001b[0;34m:\u001b[0m\u001b[0;34m\u001b[0m\u001b[0;34m\u001b[0m\u001b[0m\n\u001b[1;32m   2717\u001b[0m             \u001b[0;32mif\u001b[0m \u001b[0mpy_any\u001b[0m\u001b[0;34m(\u001b[0m\u001b[0mis_tensor\u001b[0m\u001b[0;34m(\u001b[0m\u001b[0mx\u001b[0m\u001b[0;34m)\u001b[0m \u001b[0;32mfor\u001b[0m \u001b[0mx\u001b[0m \u001b[0;32min\u001b[0m \u001b[0minputs\u001b[0m\u001b[0;34m)\u001b[0m\u001b[0;34m:\u001b[0m\u001b[0;34m\u001b[0m\u001b[0;34m\u001b[0m\u001b[0m\n",
            "\u001b[0;32m/usr/local/lib/python3.6/dist-packages/keras/backend/tensorflow_backend.py\u001b[0m in \u001b[0;36m_call\u001b[0;34m(self, inputs)\u001b[0m\n\u001b[1;32m   2673\u001b[0m             \u001b[0mfetched\u001b[0m \u001b[0;34m=\u001b[0m \u001b[0mself\u001b[0m\u001b[0;34m.\u001b[0m\u001b[0m_callable_fn\u001b[0m\u001b[0;34m(\u001b[0m\u001b[0;34m*\u001b[0m\u001b[0marray_vals\u001b[0m\u001b[0;34m,\u001b[0m \u001b[0mrun_metadata\u001b[0m\u001b[0;34m=\u001b[0m\u001b[0mself\u001b[0m\u001b[0;34m.\u001b[0m\u001b[0mrun_metadata\u001b[0m\u001b[0;34m)\u001b[0m\u001b[0;34m\u001b[0m\u001b[0;34m\u001b[0m\u001b[0m\n\u001b[1;32m   2674\u001b[0m         \u001b[0;32melse\u001b[0m\u001b[0;34m:\u001b[0m\u001b[0;34m\u001b[0m\u001b[0;34m\u001b[0m\u001b[0m\n\u001b[0;32m-> 2675\u001b[0;31m             \u001b[0mfetched\u001b[0m \u001b[0;34m=\u001b[0m \u001b[0mself\u001b[0m\u001b[0;34m.\u001b[0m\u001b[0m_callable_fn\u001b[0m\u001b[0;34m(\u001b[0m\u001b[0;34m*\u001b[0m\u001b[0marray_vals\u001b[0m\u001b[0;34m)\u001b[0m\u001b[0;34m\u001b[0m\u001b[0;34m\u001b[0m\u001b[0m\n\u001b[0m\u001b[1;32m   2676\u001b[0m         \u001b[0;32mreturn\u001b[0m \u001b[0mfetched\u001b[0m\u001b[0;34m[\u001b[0m\u001b[0;34m:\u001b[0m\u001b[0mlen\u001b[0m\u001b[0;34m(\u001b[0m\u001b[0mself\u001b[0m\u001b[0;34m.\u001b[0m\u001b[0moutputs\u001b[0m\u001b[0;34m)\u001b[0m\u001b[0;34m]\u001b[0m\u001b[0;34m\u001b[0m\u001b[0;34m\u001b[0m\u001b[0m\n\u001b[1;32m   2677\u001b[0m \u001b[0;34m\u001b[0m\u001b[0m\n",
            "\u001b[0;32m/usr/local/lib/python3.6/dist-packages/tensorflow/python/client/session.py\u001b[0m in \u001b[0;36m__call__\u001b[0;34m(self, *args, **kwargs)\u001b[0m\n\u001b[1;32m   1437\u001b[0m           ret = tf_session.TF_SessionRunCallable(\n\u001b[1;32m   1438\u001b[0m               \u001b[0mself\u001b[0m\u001b[0;34m.\u001b[0m\u001b[0m_session\u001b[0m\u001b[0;34m.\u001b[0m\u001b[0m_session\u001b[0m\u001b[0;34m,\u001b[0m \u001b[0mself\u001b[0m\u001b[0;34m.\u001b[0m\u001b[0m_handle\u001b[0m\u001b[0;34m,\u001b[0m \u001b[0margs\u001b[0m\u001b[0;34m,\u001b[0m \u001b[0mstatus\u001b[0m\u001b[0;34m,\u001b[0m\u001b[0;34m\u001b[0m\u001b[0;34m\u001b[0m\u001b[0m\n\u001b[0;32m-> 1439\u001b[0;31m               run_metadata_ptr)\n\u001b[0m\u001b[1;32m   1440\u001b[0m         \u001b[0;32mif\u001b[0m \u001b[0mrun_metadata\u001b[0m\u001b[0;34m:\u001b[0m\u001b[0;34m\u001b[0m\u001b[0;34m\u001b[0m\u001b[0m\n\u001b[1;32m   1441\u001b[0m           \u001b[0mproto_data\u001b[0m \u001b[0;34m=\u001b[0m \u001b[0mtf_session\u001b[0m\u001b[0;34m.\u001b[0m\u001b[0mTF_GetBuffer\u001b[0m\u001b[0;34m(\u001b[0m\u001b[0mrun_metadata_ptr\u001b[0m\u001b[0;34m)\u001b[0m\u001b[0;34m\u001b[0m\u001b[0;34m\u001b[0m\u001b[0m\n",
            "\u001b[0;31mKeyboardInterrupt\u001b[0m: "
          ]
        }
      ]
    },
    {
      "metadata": {
        "id": "6eBTy_rB2O3o",
        "colab_type": "code",
        "colab": {}
      },
      "cell_type": "code",
      "source": [
        "model.save(\"nothingbutnet.h5\")"
      ],
      "execution_count": 0,
      "outputs": []
    },
    {
      "metadata": {
        "id": "N4zV3lZ5-LZs",
        "colab_type": "text"
      },
      "cell_type": "markdown",
      "source": [
        "Or load from our save:"
      ]
    },
    {
      "metadata": {
        "id": "YwGVjtPq2UOA",
        "colab_type": "code",
        "colab": {}
      },
      "cell_type": "code",
      "source": [
        "from keras.models import load_model\n",
        "model = load_model(\"nothingbutnet.h5\")"
      ],
      "execution_count": 0,
      "outputs": []
    },
    {
      "metadata": {
        "id": "V5MXDjBJ-Oak",
        "colab_type": "text"
      },
      "cell_type": "markdown",
      "source": [
        "Now we examine a game. See that the events correlate to momentum!"
      ]
    },
    {
      "metadata": {
        "id": "BrQR-pKeLRKA",
        "colab_type": "code",
        "outputId": "737e82dd-08e5-42e8-8336-a03c9c098b7d",
        "colab": {
          "base_uri": "https://localhost:8080/",
          "height": 53
        }
      },
      "cell_type": "code",
      "source": [
        "game_id = '1004-346-2017-01-02'\n",
        "print(game_id)\n",
        "game = get_game_timeseries(client, game_id)\n",
        "print(game[-1][1:3])"
      ],
      "execution_count": 0,
      "outputs": [
        {
          "output_type": "stream",
          "text": [
            "1004-346-2017-01-02\n",
            "[75.0, 78.0]\n"
          ],
          "name": "stdout"
        }
      ]
    },
    {
      "metadata": {
        "id": "rKvs7ILvccAL",
        "colab_type": "code",
        "colab": {}
      },
      "cell_type": "code",
      "source": [
        "import matplotlib.pyplot as plt"
      ],
      "execution_count": 0,
      "outputs": []
    },
    {
      "metadata": {
        "id": "6IRhvDe_lzPH",
        "colab_type": "code",
        "outputId": "cadd99b2-8b3b-46ad-f439-8ff22e0f24e7",
        "colab": {
          "base_uri": "https://localhost:8080/",
          "height": 365
        }
      },
      "cell_type": "code",
      "source": [
        "game_progress = [model.predict([[game[:i]]])[1][0][0]-0.5 for i in range(1, len(game), 5)]\n",
        "plt.plot(range(len(game_progress)), game_progress)\n"
      ],
      "execution_count": 0,
      "outputs": [
        {
          "output_type": "execute_result",
          "data": {
            "text/plain": [
              "[<matplotlib.lines.Line2D at 0x7ff0649c6fd0>]"
            ]
          },
          "metadata": {
            "tags": []
          },
          "execution_count": 35
        },
        {
          "output_type": "display_data",
          "data": {
            "image/png": "[encoded data removed]",
            "text/plain": [
              "<Figure size 576x396 with 1 Axes>"
            ]
          },
          "metadata": {
            "tags": []
          }
        }
      ]
    },
    {
      "metadata": {
        "id": "K6PZ4UTdph01",
        "colab_type": "code",
        "outputId": "41fbc515-cf54-4e6d-a525-c62a0062a6b7",
        "colab": {
          "base_uri": "https://localhost:8080/",
          "height": 365
        }
      },
      "cell_type": "code",
      "source": [
        "game_hscore = [v[1] for v in game]\n",
        "game_ascore = [v[2] for v in game]\n",
        "plt.plot(range(len(game_hscore)), game_hscore, c='r')\n",
        "plt.plot(range(len(game_ascore)), game_ascore)"
      ],
      "execution_count": 0,
      "outputs": [
        {
          "output_type": "execute_result",
          "data": {
            "text/plain": [
              "[<matplotlib.lines.Line2D at 0x7ff0648b26d8>]"
            ]
          },
          "metadata": {
            "tags": []
          },
          "execution_count": 36
        },
        {
          "output_type": "display_data",
          "data": {
            "image/png": "[encoded data removed]",
            "text/plain": [
              "<Figure size 576x396 with 1 Axes>"
            ]
          },
          "metadata": {
            "tags": []
          }
        }
      ]
    },
    {
      "metadata": {
        "id": "ClKUL5-0q8vP",
        "colab_type": "code",
        "outputId": "345e8715-c62e-4363-d1a3-61eec28e3599",
        "colab": {
          "base_uri": "https://localhost:8080/",
          "height": 467
        }
      },
      "cell_type": "code",
      "source": [
        "types = ['elapsed_time_sec', 'home_pts', 'away_pts']\n",
        "event_type = {'miss': 0,'steal': 1,'assist': 2,'rebound': 3,'block': 4,'turnover': 5,'sub': 6,'foul': 7,'good': 8,'timeout': 9, 'tv_timeout': 10, 'deadball': 11, 'for': 12, 'def pts': 13}\n",
        "shot_type = {'3ptr': 0, 'ft': 1, 'layup': 2, 'dunk': 3, 'jumper': 4, 'tipin': 5}\n",
        "rebound_type = {'def': 0, 'off': 1, 'deadb': 2}\n",
        "def convert(timeframe):\n",
        "  for i in range(len(timeframe)):\n",
        "    if 3 <= i < 17:\n",
        "      print(list(event_type.keys())[list(event_type.values()).index(i-3)] + \": \" + str(timeframe[i]))\n",
        "    elif 18 <= i < 24:\n",
        "      print(list(shot_type.keys())[list(shot_type.values()).index(i-18)] + \": \" + str(timeframe[i]))\n",
        "    elif i == 17:\n",
        "      print(\"shot_made: \" + str(timeframe[i]))\n",
        "    elif 24 <= i < 27:\n",
        "      print(list(rebound_type.keys())[list(rebound_type.values()).index(i-24)] + \": \" + str(timeframe[i]))\n",
        "    elif i == 27:\n",
        "      print('technical: ' + str(timeframe[i]))\n",
        "\n",
        "convert([128.0, 2.0, 2.0, 1, 0, 0, 0, 0, 0, 0, 0, 0, 0, 0, 0, 0, 0, 0, 1, 0, 0, 0, 0, 0, 0, 0, 0, 0])"
      ],
      "execution_count": 0,
      "outputs": [
        {
          "output_type": "stream",
          "text": [
            "miss: 1\n",
            "steal: 0\n",
            "assist: 0\n",
            "rebound: 0\n",
            "block: 0\n",
            "turnover: 0\n",
            "sub: 0\n",
            "foul: 0\n",
            "good: 0\n",
            "timeout: 0\n",
            "tv_timeout: 0\n",
            "deadball: 0\n",
            "for: 0\n",
            "def pts: 0\n",
            "shot_made: 0\n",
            "3ptr: 1\n",
            "ft: 0\n",
            "layup: 0\n",
            "dunk: 0\n",
            "jumper: 0\n",
            "tipin: 0\n",
            "def: 0\n",
            "off: 0\n",
            "deadb: 0\n",
            "technical: 0\n"
          ],
          "name": "stdout"
        }
      ]
    },
    {
      "metadata": {
        "id": "HzUBEWNAp_RW",
        "colab_type": "code",
        "outputId": "225abcc4-0428-4671-f8bc-4e9b2c0406be",
        "colab": {
          "base_uri": "https://localhost:8080/",
          "height": 6281
        }
      },
      "cell_type": "code",
      "source": [
        "for i in range(1, len(game_progress)):\n",
        "#   print(abs(game_progress[i] - game_progress[i-1]))\n",
        "  if abs(game_progress[i] - game_progress[i-1]) > 0.001:\n",
        "    print(\"PLAY:\", i)\n",
        "    print(game_progress[i-1], \"->\", game_progress[i])\n",
        "    print(game[i])\n",
        "    print(convert(game[i]))"
      ],
      "execution_count": 0,
      "outputs": [
        {
          "output_type": "stream",
          "text": [
            "PLAY: 1\n",
            "0.0025475025177001953 -> 0.008481204509735107\n",
            "[3.0, 0.0, 0.0, 1, 0, 0, 0, 0, 0, 0, 0, 0, 0, 0, 0, 0, 0, 0, 1, 0, 0, 0, 0, 0, 0, 0, 0, 0]\n",
            "miss: 1\n",
            "steal: 0\n",
            "assist: 0\n",
            "rebound: 0\n",
            "block: 0\n",
            "turnover: 0\n",
            "sub: 0\n",
            "foul: 0\n",
            "good: 0\n",
            "timeout: 0\n",
            "tv_timeout: 0\n",
            "deadball: 0\n",
            "for: 0\n",
            "def pts: 0\n",
            "shot_made: 0\n",
            "3ptr: 1\n",
            "ft: 0\n",
            "layup: 0\n",
            "dunk: 0\n",
            "jumper: 0\n",
            "tipin: 0\n",
            "def: 0\n",
            "off: 0\n",
            "deadb: 0\n",
            "technical: 0\n",
            "None\n",
            "PLAY: 3\n",
            "0.007602274417877197 -> 0.009787976741790771\n",
            "[13.0, 0.0, 0.0, 0, 0, 0, 1, 0, 0, 0, 0, 0, 0, 0, 0, 0, 0, 0, 0, 0, 0, 0, 0, 0, 1, 0, 0, 0]\n",
            "miss: 0\n",
            "steal: 0\n",
            "assist: 0\n",
            "rebound: 1\n",
            "block: 0\n",
            "turnover: 0\n",
            "sub: 0\n",
            "foul: 0\n",
            "good: 0\n",
            "timeout: 0\n",
            "tv_timeout: 0\n",
            "deadball: 0\n",
            "for: 0\n",
            "def pts: 0\n",
            "shot_made: 0\n",
            "3ptr: 0\n",
            "ft: 0\n",
            "layup: 0\n",
            "dunk: 0\n",
            "jumper: 0\n",
            "tipin: 0\n",
            "def: 1\n",
            "off: 0\n",
            "deadb: 0\n",
            "technical: 0\n",
            "None\n",
            "PLAY: 6\n",
            "0.009519994258880615 -> 0.007860779762268066\n",
            "[35.0, 0.0, 0.0, 0, 0, 1, 0, 0, 0, 0, 0, 0, 0, 0, 0, 0, 0, 0, 0, 0, 0, 0, 0, 0, 0, 0, 0, 0]\n",
            "miss: 0\n",
            "steal: 0\n",
            "assist: 1\n",
            "rebound: 0\n",
            "block: 0\n",
            "turnover: 0\n",
            "sub: 0\n",
            "foul: 0\n",
            "good: 0\n",
            "timeout: 0\n",
            "tv_timeout: 0\n",
            "deadball: 0\n",
            "for: 0\n",
            "def pts: 0\n",
            "shot_made: 0\n",
            "3ptr: 0\n",
            "ft: 0\n",
            "layup: 0\n",
            "dunk: 0\n",
            "jumper: 0\n",
            "tipin: 0\n",
            "def: 0\n",
            "off: 0\n",
            "deadb: 0\n",
            "technical: 0\n",
            "None\n",
            "PLAY: 8\n",
            "0.008037388324737549 -> 0.009798705577850342\n",
            "[49.0, 0.0, 3.0, 0, 0, 0, 1, 0, 0, 0, 0, 0, 0, 0, 0, 0, 0, 0, 0, 0, 0, 0, 0, 0, 1, 0, 0, 0]\n",
            "miss: 0\n",
            "steal: 0\n",
            "assist: 0\n",
            "rebound: 1\n",
            "block: 0\n",
            "turnover: 0\n",
            "sub: 0\n",
            "foul: 0\n",
            "good: 0\n",
            "timeout: 0\n",
            "tv_timeout: 0\n",
            "deadball: 0\n",
            "for: 0\n",
            "def pts: 0\n",
            "shot_made: 0\n",
            "3ptr: 0\n",
            "ft: 0\n",
            "layup: 0\n",
            "dunk: 0\n",
            "jumper: 0\n",
            "tipin: 0\n",
            "def: 1\n",
            "off: 0\n",
            "deadb: 0\n",
            "technical: 0\n",
            "None\n",
            "PLAY: 9\n",
            "0.009798705577850342 -> 0.008331120014190674\n",
            "[49.0, 0.0, 3.0, 1, 0, 0, 0, 0, 0, 0, 0, 0, 0, 0, 0, 0, 0, 0, 0, 0, 1, 0, 0, 0, 0, 0, 0, 0]\n",
            "miss: 1\n",
            "steal: 0\n",
            "assist: 0\n",
            "rebound: 0\n",
            "block: 0\n",
            "turnover: 0\n",
            "sub: 0\n",
            "foul: 0\n",
            "good: 0\n",
            "timeout: 0\n",
            "tv_timeout: 0\n",
            "deadball: 0\n",
            "for: 0\n",
            "def pts: 0\n",
            "shot_made: 0\n",
            "3ptr: 0\n",
            "ft: 0\n",
            "layup: 1\n",
            "dunk: 0\n",
            "jumper: 0\n",
            "tipin: 0\n",
            "def: 0\n",
            "off: 0\n",
            "deadb: 0\n",
            "technical: 0\n",
            "None\n",
            "PLAY: 12\n",
            "0.007716357707977295 -> 0.0067043304443359375\n",
            "[92.0, 2.0, 7.0, 0, 0, 0, 0, 0, 0, 0, 0, 1, 0, 0, 0, 0, 0, 1, 0, 0, 1, 0, 0, 0, 0, 0, 0, 0]\n",
            "miss: 0\n",
            "steal: 0\n",
            "assist: 0\n",
            "rebound: 0\n",
            "block: 0\n",
            "turnover: 0\n",
            "sub: 0\n",
            "foul: 0\n",
            "good: 1\n",
            "timeout: 0\n",
            "tv_timeout: 0\n",
            "deadball: 0\n",
            "for: 0\n",
            "def pts: 0\n",
            "shot_made: 1\n",
            "3ptr: 0\n",
            "ft: 0\n",
            "layup: 1\n",
            "dunk: 0\n",
            "jumper: 0\n",
            "tipin: 0\n",
            "def: 0\n",
            "off: 0\n",
            "deadb: 0\n",
            "technical: 0\n",
            "None\n",
            "PLAY: 26\n",
            "0.003328979015350342 -> 0.002042233943939209\n",
            "[152.0, 4.0, 9.0, 0, 0, 0, 0, 0, 0, 0, 0, 0, 0, 0, 1, 0, 0, 0, 0, 0, 0, 0, 0, 0, 0, 0, 1, 0]\n",
            "miss: 0\n",
            "steal: 0\n",
            "assist: 0\n",
            "rebound: 0\n",
            "block: 0\n",
            "turnover: 0\n",
            "sub: 0\n",
            "foul: 0\n",
            "good: 0\n",
            "timeout: 0\n",
            "tv_timeout: 0\n",
            "deadball: 1\n",
            "for: 0\n",
            "def pts: 0\n",
            "shot_made: 0\n",
            "3ptr: 0\n",
            "ft: 0\n",
            "layup: 0\n",
            "dunk: 0\n",
            "jumper: 0\n",
            "tipin: 0\n",
            "def: 0\n",
            "off: 0\n",
            "deadb: 1\n",
            "technical: 0\n",
            "None\n",
            "PLAY: 29\n",
            "0.0018947124481201172 -> 0.003212451934814453\n",
            "[152.0, 4.0, 9.0, 0, 0, 0, 1, 0, 0, 0, 0, 0, 0, 0, 0, 0, 0, 0, 0, 0, 0, 0, 0, 0, 0, 1, 0, 0]\n",
            "miss: 0\n",
            "steal: 0\n",
            "assist: 0\n",
            "rebound: 1\n",
            "block: 0\n",
            "turnover: 0\n",
            "sub: 0\n",
            "foul: 0\n",
            "good: 0\n",
            "timeout: 0\n",
            "tv_timeout: 0\n",
            "deadball: 0\n",
            "for: 0\n",
            "def pts: 0\n",
            "shot_made: 0\n",
            "3ptr: 0\n",
            "ft: 0\n",
            "layup: 0\n",
            "dunk: 0\n",
            "jumper: 0\n",
            "tipin: 0\n",
            "def: 0\n",
            "off: 1\n",
            "deadb: 0\n",
            "technical: 0\n",
            "None\n",
            "PLAY: 32\n",
            "0.0029398202896118164 -> 0.0018509626388549805\n",
            "[166.0, 4.0, 11.0, 0, 0, 0, 0, 0, 0, 1, 0, 0, 0, 0, 0, 0, 0, 0, 0, 0, 0, 0, 0, 0, 0, 0, 0, 0]\n",
            "miss: 0\n",
            "steal: 0\n",
            "assist: 0\n",
            "rebound: 0\n",
            "block: 0\n",
            "turnover: 0\n",
            "sub: 1\n",
            "foul: 0\n",
            "good: 0\n",
            "timeout: 0\n",
            "tv_timeout: 0\n",
            "deadball: 0\n",
            "for: 0\n",
            "def pts: 0\n",
            "shot_made: 0\n",
            "3ptr: 0\n",
            "ft: 0\n",
            "layup: 0\n",
            "dunk: 0\n",
            "jumper: 0\n",
            "tipin: 0\n",
            "def: 0\n",
            "off: 0\n",
            "deadb: 0\n",
            "technical: 0\n",
            "None\n",
            "PLAY: 48\n",
            "0.001936793327331543 -> 0.0009080767631530762\n",
            "[309.0, 8.0, 11.0, 0, 0, 0, 0, 0, 0, 0, 1, 0, 0, 0, 0, 0, 0, 0, 0, 0, 0, 0, 0, 0, 0, 0, 0, 0]\n",
            "miss: 0\n",
            "steal: 0\n",
            "assist: 0\n",
            "rebound: 0\n",
            "block: 0\n",
            "turnover: 0\n",
            "sub: 0\n",
            "foul: 1\n",
            "good: 0\n",
            "timeout: 0\n",
            "tv_timeout: 0\n",
            "deadball: 0\n",
            "for: 0\n",
            "def pts: 0\n",
            "shot_made: 0\n",
            "3ptr: 0\n",
            "ft: 0\n",
            "layup: 0\n",
            "dunk: 0\n",
            "jumper: 0\n",
            "tipin: 0\n",
            "def: 0\n",
            "off: 0\n",
            "deadb: 0\n",
            "technical: 0\n",
            "None\n",
            "PLAY: 50\n",
            "0.001515209674835205 -> -0.00015917420387268066\n",
            "[319.0, 8.0, 11.0, 0, 0, 0, 0, 1, 0, 0, 0, 0, 0, 0, 0, 0, 0, 0, 0, 0, 0, 0, 0, 0, 0, 0, 0, 0]\n",
            "miss: 0\n",
            "steal: 0\n",
            "assist: 0\n",
            "rebound: 0\n",
            "block: 1\n",
            "turnover: 0\n",
            "sub: 0\n",
            "foul: 0\n",
            "good: 0\n",
            "timeout: 0\n",
            "tv_timeout: 0\n",
            "deadball: 0\n",
            "for: 0\n",
            "def pts: 0\n",
            "shot_made: 0\n",
            "3ptr: 0\n",
            "ft: 0\n",
            "layup: 0\n",
            "dunk: 0\n",
            "jumper: 0\n",
            "tipin: 0\n",
            "def: 0\n",
            "off: 0\n",
            "deadb: 0\n",
            "technical: 0\n",
            "None\n",
            "PLAY: 58\n",
            "-0.00011438131332397461 -> -0.0012233555316925049\n",
            "[370.0, 10.0, 16.0, 0, 0, 0, 0, 0, 1, 0, 0, 0, 0, 0, 0, 0, 0, 0, 0, 0, 0, 0, 0, 0, 0, 0, 0, 0]\n",
            "miss: 0\n",
            "steal: 0\n",
            "assist: 0\n",
            "rebound: 0\n",
            "block: 0\n",
            "turnover: 1\n",
            "sub: 0\n",
            "foul: 0\n",
            "good: 0\n",
            "timeout: 0\n",
            "tv_timeout: 0\n",
            "deadball: 0\n",
            "for: 0\n",
            "def pts: 0\n",
            "shot_made: 0\n",
            "3ptr: 0\n",
            "ft: 0\n",
            "layup: 0\n",
            "dunk: 0\n",
            "jumper: 0\n",
            "tipin: 0\n",
            "def: 0\n",
            "off: 0\n",
            "deadb: 0\n",
            "technical: 0\n",
            "None\n"
          ],
          "name": "stdout"
        }
      ]
    },
    {
      "metadata": {
        "id": "laMaVYQF3lqj",
        "colab_type": "code",
        "outputId": "04c2cec8-fa43-4119-c69c-485a24caa6f8",
        "colab": {
          "base_uri": "https://localhost:8080/",
          "height": 431
        }
      },
      "cell_type": "code",
      "source": [
        "client.query(f'SELECT * FROM `{bqdb}.pbp` WHERE game_id=\"{game_id}\" ORDER BY elapsed_time_sec').to_dataframe().loc[48]"
      ],
      "execution_count": 0,
      "outputs": [
        {
          "output_type": "execute_result",
          "data": {
            "text/plain": [
              "season                              2016\n",
              "game_id              1004-346-2017-01-02\n",
              "is_home                                1\n",
              "is_neutral                             N\n",
              "home_pts                               0\n",
              "away_pts                               0\n",
              "player_id                    1.85665e+06\n",
              "player_full_name         PARNELL,DARRAJA\n",
              "scheduled_date                2017-01-02\n",
              "elapsed_time_sec                     309\n",
              "game_clock                         14:51\n",
              "period                                 1\n",
              "team_code                           1004\n",
              "event_type                           SUB\n",
              "shot_made                          False\n",
              "shot_type                           None\n",
              "points_scored                          0\n",
              "three_point_shot                   False\n",
              "rebound_type                        None\n",
              "timeout_duration                    None\n",
              "foul_type                           None\n",
              "substitution_type                     IN\n",
              "Name: 48, dtype: object"
            ]
          },
          "metadata": {
            "tags": []
          },
          "execution_count": 39
        }
      ]
    },
    {
      "metadata": {
        "id": "AVCoGNnd4QKF",
        "colab_type": "code",
        "colab": {}
      },
      "cell_type": "code",
      "source": [
        ""
      ],
      "execution_count": 0,
      "outputs": []
    }
  ]
}